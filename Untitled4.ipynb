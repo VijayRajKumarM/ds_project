{
  "nbformat": 4,
  "nbformat_minor": 0,
  "metadata": {
    "colab": {
      "provenance": [],
      "authorship_tag": "ABX9TyMjrdQKycrY9t2Dz9g+mNaC",
      "include_colab_link": true
    },
    "kernelspec": {
      "name": "python3",
      "display_name": "Python 3"
    },
    "language_info": {
      "name": "python"
    }
  },
  "cells": [
    {
      "cell_type": "markdown",
      "metadata": {
        "id": "view-in-github",
        "colab_type": "text"
      },
      "source": [
        "<a href=\"https://colab.research.google.com/github/VijayRajKumarM/ds_project/blob/main/Untitled4.ipynb\" target=\"_parent\"><img src=\"https://colab.research.google.com/assets/colab-badge.svg\" alt=\"Open In Colab\"/></a>"
      ]
    },
    {
      "cell_type": "code",
      "execution_count": 2,
      "metadata": {
        "id": "xZXv9eidaBWQ"
      },
      "outputs": [],
      "source": [
        "import numpy as np\n",
        "import pandas as pd \n",
        "import random\n"
      ]
    },
    {
      "cell_type": "code",
      "source": [
        "rng = np.random.RandomState(42)\n",
        "ser = pd.Series(rng.randint(0,15,15))\n",
        "arr = np.array(rng.randint(0,10,15))\n",
        "print(arr)\n",
        "print(ser)"
      ],
      "metadata": {
        "colab": {
          "base_uri": "https://localhost:8080/"
        },
        "id": "Dzy5U2TMaMUS",
        "outputId": "47a5574e-9ca1-468e-b62f-735f9b87f64d"
      },
      "execution_count": 8,
      "outputs": [
        {
          "output_type": "stream",
          "name": "stdout",
          "text": [
            "[4 3 7 7 2 5 4 1 7 5 1 4 0 9 5]\n",
            "0      6\n",
            "1      3\n",
            "2     12\n",
            "3     14\n",
            "4     10\n",
            "5      7\n",
            "6     12\n",
            "7      4\n",
            "8      6\n",
            "9      9\n",
            "10     2\n",
            "11     6\n",
            "12    10\n",
            "13    10\n",
            "14     7\n",
            "dtype: int64\n"
          ]
        }
      ]
    },
    {
      "cell_type": "code",
      "source": [
        "no_of_days = np.array(rng.randint(1,15,1000))\n",
        "l=[\"Hyderabad\",\"Chennai\",\"Delhi\",\"Kolkata\",\"Mumbai\",\"Pune\",\"Lucknow\",\"Coimbatore\",\"Ahmedabad\",\"Guwahati\"]\n",
        "l1 = [\"Spicejet\",\"Indigo\",\"AirIndia\",\"Go Air\"]\n",
        "lst=[]\n",
        "lst1=[]\n",
        "lst2=[]\n",
        "lst3=[]\n",
        "lst4=[]\n",
        "lst5=[]\n",
        "lst6=[]\n",
        "lst7=[]\n",
        "lst8=[]\n",
        "for i in range(0,1000):\n",
        "  lst.append(round(random.uniform(0.0,7500.5),3))\n",
        "  lst1.append(round(random.uniform(0.0,950.75),3))\n",
        "  lst2.append(round(random.uniform(0.0,2500.67),3))\n",
        "  lst3.append(round(random.uniform(0.0,1000.00),3))\n",
        "  lst4.append(round(random.uniform(0.0,500.45),3))\n",
        "  lst5.append(round(random.uniform(0.0,104.00),3))\n",
        "  lst6.append(round(random.uniform(0.0,12000.56),3))\n",
        "  lst7.append(random.choice(l))\n",
        "  lst8.append(random.choice(l1))\n",
        "airfare = np.array(lst)\n",
        "othertrans=np.array(lst1)\n",
        "accom=np.array(lst2)\n",
        "meals = np.array(lst3)\n",
        "incidentals =np.array(lst4)\n",
        "hospitality = np.array(lst5)\n",
        "miscellaneous = np.array(lst6)\n",
        "dest=np.array(lst7)\n",
        "airline = np.array(lst8)\n",
        "date = np.array(rng.randint(0,365,1000))"
      ],
      "metadata": {
        "id": "0ZvnSyUjhESZ"
      },
      "execution_count": 16,
      "outputs": []
    },
    {
      "cell_type": "code",
      "source": [
        "df = pd.DataFrame({'No_Of_Days':no_of_days,'Destination':dest,'Airfare':airfare,'Othertransport':othertrans,'Accomodation':accom,'Meals':meals,'Hospitality':hospitality,'Miscellaneous':miscellaneous,'Airline':airline,'Date':date})\n",
        "print(df)\n",
        "df.to_csv('trip_data.csv')\n"
      ],
      "metadata": {
        "colab": {
          "base_uri": "https://localhost:8080/"
        },
        "id": "LRlWH7Brm2Ta",
        "outputId": "f141dcac-2692-46a0-ffdf-5389bb7a8b0d"
      },
      "execution_count": 19,
      "outputs": [
        {
          "output_type": "stream",
          "name": "stdout",
          "text": [
            "     No_Of_Days Destination   Airfare  Othertransport  Accomodation    Meals  \\\n",
            "0             3       Delhi  5723.042         915.485      1055.386   82.791   \n",
            "1             4     Lucknow  2799.270         751.740      1971.459  337.699   \n",
            "2             4     Kolkata  6058.310         219.369       723.868   19.791   \n",
            "3             5    Guwahati  7035.082          27.704      1005.794  148.779   \n",
            "4            14   Hyderabad  6882.546         361.832       210.537  440.773   \n",
            "..          ...         ...       ...             ...           ...      ...   \n",
            "995           4       Delhi   559.093         598.613      2354.987  527.504   \n",
            "996          11    Guwahati  6733.324         934.115      2300.561  512.709   \n",
            "997          11       Delhi    63.845         927.337      2106.614  542.883   \n",
            "998           5   Ahmedabad  1424.158         920.568       985.623  854.308   \n",
            "999           3     Lucknow  2420.980         516.316      1325.341  643.363   \n",
            "\n",
            "     Hospitality  Miscellaneous   Airline  Date  \n",
            "0        102.982       8280.010  AirIndia   303  \n",
            "1         31.768       8022.839    Go Air   290  \n",
            "2         21.786       4570.694  AirIndia    85  \n",
            "3         95.199       4188.150    Go Air   165  \n",
            "4          1.809       1325.667    Go Air   113  \n",
            "..           ...            ...       ...   ...  \n",
            "995       15.860        916.867  AirIndia   141  \n",
            "996       68.251       9457.025  AirIndia   316  \n",
            "997       74.895        941.564  Spicejet   198  \n",
            "998       93.595       2600.720    Indigo    45  \n",
            "999       24.592       3677.650  Spicejet   287  \n",
            "\n",
            "[1000 rows x 10 columns]\n"
          ]
        }
      ]
    },
    {
      "cell_type": "markdown",
      "source": [
        "# New Section"
      ],
      "metadata": {
        "id": "TOGDTVtvxKCP"
      }
    },
    {
      "cell_type": "code",
      "source": [],
      "metadata": {
        "id": "NsMEX8ifkO4_"
      },
      "execution_count": null,
      "outputs": []
    }
  ]
}